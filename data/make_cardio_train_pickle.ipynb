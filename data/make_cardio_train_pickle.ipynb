{
 "cells": [
  {
   "cell_type": "code",
   "execution_count": 1,
   "id": "9cecb3cc-83a7-404f-ac04-c8fb4f8a47ae",
   "metadata": {
    "execution": {
     "iopub.execute_input": "2025-04-14T08:03:13.024011Z",
     "iopub.status.busy": "2025-04-14T08:03:13.022800Z",
     "iopub.status.idle": "2025-04-14T08:03:14.155124Z",
     "shell.execute_reply": "2025-04-14T08:03:14.154206Z",
     "shell.execute_reply.started": "2025-04-14T08:03:13.023945Z"
    }
   },
   "outputs": [],
   "source": [
    "import pandas as pd\n",
    "\n",
    "df = pd.read_csv(\"cardio_train.csv\", sep=';')\n",
    "categorical_cols = ['gender', 'cholesterol', 'gluc', 'smoke', 'alco', 'active', 'cardio']\n",
    "df[categorical_cols] = df[categorical_cols].astype('object')\n",
    "df.to_pickle(\"typed_cardio_train.pkl\")"
   ]
  }
 ],
 "metadata": {
  "kernelspec": {
   "display_name": "Python 3 (ipykernel)",
   "language": "python",
   "name": "python3"
  },
  "language_info": {
   "codemirror_mode": {
    "name": "ipython",
    "version": 3
   },
   "file_extension": ".py",
   "mimetype": "text/x-python",
   "name": "python",
   "nbconvert_exporter": "python",
   "pygments_lexer": "ipython3",
   "version": "3.10.12"
  }
 },
 "nbformat": 4,
 "nbformat_minor": 5
}
