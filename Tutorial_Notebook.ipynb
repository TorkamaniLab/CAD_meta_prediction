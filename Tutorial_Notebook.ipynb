{
 "cells": [
  {
   "cell_type": "markdown",
   "id": "82af4cd9-96cb-48b6-b8c8-6598da74a25e",
   "metadata": {},
   "source": [
    "# Tutorial Notebook"
   ]
  },
  {
   "cell_type": "markdown",
   "id": "95951a04-00f8-423e-9fc5-151fe59fe814",
   "metadata": {},
   "source": [
    "## 0. Setup and load data"
   ]
  },
  {
   "cell_type": "code",
   "execution_count": 1,
   "id": "f5e5754f-8cf5-4733-9711-e07681c064b6",
   "metadata": {
    "execution": {
     "iopub.execute_input": "2025-04-14T09:24:28.102396Z",
     "iopub.status.busy": "2025-04-14T09:24:28.101543Z",
     "iopub.status.idle": "2025-04-14T09:24:28.155389Z",
     "shell.execute_reply": "2025-04-14T09:24:28.154319Z",
     "shell.execute_reply.started": "2025-04-14T09:24:28.102272Z"
    }
   },
   "outputs": [],
   "source": [
    "%load_ext autoreload\n",
    "%autoreload 2"
   ]
  },
  {
   "cell_type": "code",
   "execution_count": 2,
   "id": "ca03021c-ea04-4003-bf2e-b84ceb7c25f2",
   "metadata": {
    "execution": {
     "iopub.execute_input": "2025-04-14T09:24:28.376830Z",
     "iopub.status.busy": "2025-04-14T09:24:28.375976Z",
     "iopub.status.idle": "2025-04-14T09:26:38.220982Z",
     "shell.execute_reply": "2025-04-14T09:26:38.220112Z",
     "shell.execute_reply.started": "2025-04-14T09:24:28.376760Z"
    }
   },
   "outputs": [
    {
     "name": "stderr",
     "output_type": "stream",
     "text": [
      "\"is\" with a literal. Did you mean \"==\"?\n",
      "\"is\" with a literal. Did you mean \"==\"?\n",
      "\"is not\" with a literal. Did you mean \"!=\"?\n",
      "Using `tqdm.autonotebook.tqdm` in notebook mode. Use `tqdm.tqdm` instead to force console mode (e.g. in jupyter console)\n"
     ]
    },
    {
     "name": "stdout",
     "output_type": "stream",
     "text": [
      "[Errno 2] No such file or directory: '/Users/sfchen/Documents/2018-2024_Scripps/Torkamani_Lab/230404_draft/CAD_meta_prediction/.venv/lib/python3.10/site-packages/lohrasb/config.yaml'\n",
      "In this module, the default logging will be applied. The error is [Errno 2] No such file or directory: '/Users/sfchen/Documents/2018-2024_Scripps/Torkamani_Lab/230404_draft/CAD_meta_prediction/.venv/lib/python3.10/site-packages/lohrasb/config.yaml' which will be skipped!\n",
      "default logger setting is applied !\n"
     ]
    }
   ],
   "source": [
    "import fasttreeshap\n",
    "import matplotlib.pyplot as plt\n",
    "import pandas as pd\n",
    "import shap\n",
    "\n",
    "from src.utils import _eval_pred, _fit_pipeline, _get_X_y_idx, _set_train_test"
   ]
  },
  {
   "cell_type": "code",
   "execution_count": 3,
   "id": "20f5c7f5-97f4-4058-9e4e-089b1ba9bc32",
   "metadata": {
    "execution": {
     "iopub.execute_input": "2025-04-14T09:26:38.224325Z",
     "iopub.status.busy": "2025-04-14T09:26:38.223061Z",
     "iopub.status.idle": "2025-04-14T09:26:38.292374Z",
     "shell.execute_reply": "2025-04-14T09:26:38.290496Z",
     "shell.execute_reply.started": "2025-04-14T09:26:38.224271Z"
    }
   },
   "outputs": [],
   "source": [
    "y_label = \"cardio\"\n",
    "id_col = \"id\"\n",
    "trainer = (\"xgb\", \"classifier\")\n",
    "n_features = 5\n",
    "n_trials = 100"
   ]
  },
  {
   "cell_type": "code",
   "execution_count": 4,
   "id": "ba548b09-7631-4854-af28-e3189403988d",
   "metadata": {
    "execution": {
     "iopub.execute_input": "2025-04-14T09:26:38.294824Z",
     "iopub.status.busy": "2025-04-14T09:26:38.294212Z",
     "iopub.status.idle": "2025-04-14T09:26:38.554404Z",
     "shell.execute_reply": "2025-04-14T09:26:38.553707Z",
     "shell.execute_reply.started": "2025-04-14T09:26:38.294792Z"
    }
   },
   "outputs": [
    {
     "data": {
      "text/html": [
       "<div>\n",
       "<style scoped>\n",
       "    .dataframe tbody tr th:only-of-type {\n",
       "        vertical-align: middle;\n",
       "    }\n",
       "\n",
       "    .dataframe tbody tr th {\n",
       "        vertical-align: top;\n",
       "    }\n",
       "\n",
       "    .dataframe thead th {\n",
       "        text-align: right;\n",
       "    }\n",
       "</style>\n",
       "<table border=\"1\" class=\"dataframe\">\n",
       "  <thead>\n",
       "    <tr style=\"text-align: right;\">\n",
       "      <th></th>\n",
       "      <th>id</th>\n",
       "      <th>age</th>\n",
       "      <th>gender</th>\n",
       "      <th>height</th>\n",
       "      <th>weight</th>\n",
       "      <th>ap_hi</th>\n",
       "      <th>ap_lo</th>\n",
       "      <th>cholesterol</th>\n",
       "      <th>gluc</th>\n",
       "      <th>smoke</th>\n",
       "      <th>alco</th>\n",
       "      <th>active</th>\n",
       "      <th>cardio</th>\n",
       "    </tr>\n",
       "  </thead>\n",
       "  <tbody>\n",
       "    <tr>\n",
       "      <th>0</th>\n",
       "      <td>0</td>\n",
       "      <td>18393</td>\n",
       "      <td>2</td>\n",
       "      <td>168</td>\n",
       "      <td>62.0</td>\n",
       "      <td>110</td>\n",
       "      <td>80</td>\n",
       "      <td>1</td>\n",
       "      <td>1</td>\n",
       "      <td>0</td>\n",
       "      <td>0</td>\n",
       "      <td>1</td>\n",
       "      <td>0</td>\n",
       "    </tr>\n",
       "    <tr>\n",
       "      <th>1</th>\n",
       "      <td>1</td>\n",
       "      <td>20228</td>\n",
       "      <td>1</td>\n",
       "      <td>156</td>\n",
       "      <td>85.0</td>\n",
       "      <td>140</td>\n",
       "      <td>90</td>\n",
       "      <td>3</td>\n",
       "      <td>1</td>\n",
       "      <td>0</td>\n",
       "      <td>0</td>\n",
       "      <td>1</td>\n",
       "      <td>1</td>\n",
       "    </tr>\n",
       "    <tr>\n",
       "      <th>2</th>\n",
       "      <td>2</td>\n",
       "      <td>18857</td>\n",
       "      <td>1</td>\n",
       "      <td>165</td>\n",
       "      <td>64.0</td>\n",
       "      <td>130</td>\n",
       "      <td>70</td>\n",
       "      <td>3</td>\n",
       "      <td>1</td>\n",
       "      <td>0</td>\n",
       "      <td>0</td>\n",
       "      <td>0</td>\n",
       "      <td>1</td>\n",
       "    </tr>\n",
       "    <tr>\n",
       "      <th>3</th>\n",
       "      <td>3</td>\n",
       "      <td>17623</td>\n",
       "      <td>2</td>\n",
       "      <td>169</td>\n",
       "      <td>82.0</td>\n",
       "      <td>150</td>\n",
       "      <td>100</td>\n",
       "      <td>1</td>\n",
       "      <td>1</td>\n",
       "      <td>0</td>\n",
       "      <td>0</td>\n",
       "      <td>1</td>\n",
       "      <td>1</td>\n",
       "    </tr>\n",
       "    <tr>\n",
       "      <th>4</th>\n",
       "      <td>4</td>\n",
       "      <td>17474</td>\n",
       "      <td>1</td>\n",
       "      <td>156</td>\n",
       "      <td>56.0</td>\n",
       "      <td>100</td>\n",
       "      <td>60</td>\n",
       "      <td>1</td>\n",
       "      <td>1</td>\n",
       "      <td>0</td>\n",
       "      <td>0</td>\n",
       "      <td>0</td>\n",
       "      <td>0</td>\n",
       "    </tr>\n",
       "  </tbody>\n",
       "</table>\n",
       "</div>"
      ],
      "text/plain": [
       "   id    age gender  height  weight  ap_hi  ap_lo cholesterol gluc smoke alco  \\\n",
       "0   0  18393      2     168    62.0    110     80           1    1     0    0   \n",
       "1   1  20228      1     156    85.0    140     90           3    1     0    0   \n",
       "2   2  18857      1     165    64.0    130     70           3    1     0    0   \n",
       "3   3  17623      2     169    82.0    150    100           1    1     0    0   \n",
       "4   4  17474      1     156    56.0    100     60           1    1     0    0   \n",
       "\n",
       "  active cardio  \n",
       "0      1      0  \n",
       "1      1      1  \n",
       "2      0      1  \n",
       "3      1      1  \n",
       "4      0      0  "
      ]
     },
     "execution_count": 4,
     "metadata": {},
     "output_type": "execute_result"
    }
   ],
   "source": [
    "df = pd.read_csv(\"data/cardio_train.csv\", sep=\";\")\n",
    "categorical_cols = [\"gender\", \"cholesterol\", \"gluc\", \"smoke\", \"alco\", \"active\", \"cardio\"]\n",
    "df[categorical_cols] = df[categorical_cols].astype(\"object\")\n",
    "df.head()"
   ]
  },
  {
   "cell_type": "markdown",
   "id": "275cd86f-ad93-4bd3-8b5b-271505813198",
   "metadata": {},
   "source": [
    "## 1. ML pipeline execution"
   ]
  },
  {
   "cell_type": "code",
   "execution_count": 5,
   "id": "5842c3ef-ee21-4fd8-b85b-08999d151737",
   "metadata": {
    "execution": {
     "iopub.execute_input": "2025-04-14T09:26:38.559556Z",
     "iopub.status.busy": "2025-04-14T09:26:38.559164Z",
     "iopub.status.idle": "2025-04-14T09:26:38.644377Z",
     "shell.execute_reply": "2025-04-14T09:26:38.643625Z",
     "shell.execute_reply.started": "2025-04-14T09:26:38.559525Z"
    }
   },
   "outputs": [
    {
     "name": "stdout",
     "output_type": "stream",
     "text": [
      "input data shape: (70000, 12)\n",
      "input outcome shape: (70000, 1)\n"
     ]
    }
   ],
   "source": [
    "X, y, idx = _get_X_y_idx(df=df, id_col=id_col, y_label=y_label, trainer=trainer)"
   ]
  },
  {
   "cell_type": "code",
   "execution_count": 6,
   "id": "57410856-e664-4d1f-afa8-e1561b21b234",
   "metadata": {
    "execution": {
     "iopub.execute_input": "2025-04-14T09:26:38.646059Z",
     "iopub.status.busy": "2025-04-14T09:26:38.645627Z",
     "iopub.status.idle": "2025-04-14T09:26:39.013847Z",
     "shell.execute_reply": "2025-04-14T09:26:39.013132Z",
     "shell.execute_reply.started": "2025-04-14T09:26:38.646027Z"
    }
   },
   "outputs": [],
   "source": [
    "X_train, X_test, y_train, y_test, _, idx_test = _set_train_test(trainer, X, y, idx)"
   ]
  },
  {
   "cell_type": "code",
   "execution_count": null,
   "id": "67b45d5e-be39-44a0-845f-d96eae7fd9ea",
   "metadata": {
    "execution": {
     "iopub.execute_input": "2025-04-14T09:26:39.015587Z",
     "iopub.status.busy": "2025-04-14T09:26:39.015164Z"
    }
   },
   "outputs": [
    {
     "name": "stdout",
     "output_type": "stream",
     "text": [
      "measure_of_accuracy = f1_score(y_true, y_pred, average='macro')\n",
      "\n",
      "pre-SHAP init:\n",
      "- X_train.shape:(56000, 12)\n",
      "- y_train.shape(56000, 1)\n"
     ]
    },
    {
     "name": "stderr",
     "output_type": "stream",
     "text": [
      "[I 2025-04-14 02:26:39,462] A new study created in memory with name: feature_selection\n",
      "[I 2025-04-14 02:26:43,735] Trial 0 finished with value: 0.39237277234486095 and parameters: {'objective': 'binary:logistic', 'eval_metric': 'auc', 'gamma': 3, 'learning_rate': 0.13103143857073918, 'max_bin': 18, 'max_depth': 7, 'min_child_weight': 5, 'n_estimators': 101, 'n_jobs': -1, 'random_state': 19920722, 'reg_alpha': 1, 'reg_lambda': 1, 'scale_pos_weight': 17.485604649374103}. Best is trial 0 with value: 0.39237277234486095.\n"
     ]
    }
   ],
   "source": [
    "fitted_pipeline = _fit_pipeline(\n",
    "    X_train=X_train,\n",
    "    y_train=y_train,\n",
    "    trainer=trainer,\n",
    "    fname=f\"{trainer[0]}_{trainer[1]}__{y_label}\",\n",
    "    n_features=n_features,\n",
    "    n_trials=n_trials,\n",
    ")"
   ]
  },
  {
   "cell_type": "code",
   "execution_count": null,
   "id": "8919de13-5d25-4c3e-8291-66550dbb73b9",
   "metadata": {},
   "outputs": [],
   "source": [
    "y_pred, acc = _eval_pred(pip=fitted_pipeline, trainer=trainer, X=X_test, y=y_test)"
   ]
  },
  {
   "cell_type": "markdown",
   "id": "b7b70505-5809-497d-999d-e46fe58ff1d7",
   "metadata": {},
   "source": [
    "## 2. SHAP explanation of best estimator"
   ]
  },
  {
   "cell_type": "code",
   "execution_count": null,
   "id": "d4de4207-a691-4fc7-98d2-2d1e3dcec3ef",
   "metadata": {},
   "outputs": [],
   "source": [
    "plt.cla()\n",
    "plt.clf()\n",
    "fig = plt.gcf()\n",
    "\n",
    "scaled_X_test = fitted_pipeline[:-1].transform(X_test)\n",
    "estimator = fitted_pipeline[-1].best_estimator\n",
    "explainer = fasttreeshap.TreeExplainer(estimator, algorithm=\"v2\", n_jobs=-1)\n",
    "shap_values = explainer.shap_values(scaled_X_test)\n",
    "\n",
    "shap.summary_plot(shap_values, scaled_X_test, max_display=n_features, show=True)\n",
    "plt.close()\n",
    "plt.cla()\n",
    "plt.clf()"
   ]
  }
 ],
 "metadata": {
  "kernelspec": {
   "display_name": "Python 3 (ipykernel)",
   "language": "python",
   "name": "python3"
  },
  "language_info": {
   "codemirror_mode": {
    "name": "ipython",
    "version": 3
   },
   "file_extension": ".py",
   "mimetype": "text/x-python",
   "name": "python",
   "nbconvert_exporter": "python",
   "pygments_lexer": "ipython3",
   "version": "3.10.13"
  }
 },
 "nbformat": 4,
 "nbformat_minor": 5
}
