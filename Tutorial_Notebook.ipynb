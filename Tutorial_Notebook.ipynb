{
 "cells": [
  {
   "cell_type": "markdown",
   "id": "82af4cd9-96cb-48b6-b8c8-6598da74a25e",
   "metadata": {},
   "source": [
    "# Tutorial Notebook"
   ]
  },
  {
   "cell_type": "markdown",
   "id": "95951a04-00f8-423e-9fc5-151fe59fe814",
   "metadata": {},
   "source": [
    "## 0. Setup and load data"
   ]
  },
  {
   "cell_type": "code",
   "execution_count": 1,
   "id": "f5e5754f-8cf5-4733-9711-e07681c064b6",
   "metadata": {
    "execution": {
     "iopub.execute_input": "2025-04-14T07:54:16.682475Z",
     "iopub.status.busy": "2025-04-14T07:54:16.681774Z",
     "iopub.status.idle": "2025-04-14T07:54:16.732960Z",
     "shell.execute_reply": "2025-04-14T07:54:16.731551Z",
     "shell.execute_reply.started": "2025-04-14T07:54:16.682427Z"
    }
   },
   "outputs": [],
   "source": [
    "%load_ext autoreload\n",
    "%autoreload 2"
   ]
  },
  {
   "cell_type": "code",
   "execution_count": 2,
   "id": "ca03021c-ea04-4003-bf2e-b84ceb7c25f2",
   "metadata": {
    "execution": {
     "iopub.execute_input": "2025-04-14T07:54:16.854925Z",
     "iopub.status.busy": "2025-04-14T07:54:16.854435Z",
     "iopub.status.idle": "2025-04-14T07:54:17.873099Z",
     "shell.execute_reply": "2025-04-14T07:54:17.872123Z",
     "shell.execute_reply.started": "2025-04-14T07:54:16.854892Z"
    }
   },
   "outputs": [],
   "source": [
    "import fasttreeshap\n",
    "import matplotlib.pyplot as plt\n",
    "import pandas as pd\n",
    "import shap\n",
    "\n",
    "from src.utils import _eval_pred, _fit_pipeline, _get_X_y_idx, _set_train_test"
   ]
  },
  {
   "cell_type": "code",
   "execution_count": 4,
   "id": "20f5c7f5-97f4-4058-9e4e-089b1ba9bc32",
   "metadata": {
    "execution": {
     "iopub.execute_input": "2025-04-14T07:54:23.731498Z",
     "iopub.status.busy": "2025-04-14T07:54:23.730531Z",
     "iopub.status.idle": "2025-04-14T07:54:23.819935Z",
     "shell.execute_reply": "2025-04-14T07:54:23.819062Z",
     "shell.execute_reply.started": "2025-04-14T07:54:23.731450Z"
    }
   },
   "outputs": [],
   "source": [
    "y_label = \"cardio\"\n",
    "input_pickle_fp = \"data/cardio_train_clean.pkl\"\n",
    "id_col = \"id\"\n",
    "trainer = (\"xgb\", \"classifier\")\n",
    "n_features = 5\n",
    "n_trials = 100"
   ]
  },
  {
   "cell_type": "code",
   "execution_count": 5,
   "id": "cff9f2b4-38c1-4849-b57c-e0de1bf13804",
   "metadata": {
    "execution": {
     "iopub.execute_input": "2025-04-14T07:54:23.825671Z",
     "iopub.status.busy": "2025-04-14T07:54:23.822622Z",
     "iopub.status.idle": "2025-04-14T07:54:23.937321Z",
     "shell.execute_reply": "2025-04-14T07:54:23.935968Z",
     "shell.execute_reply.started": "2025-04-14T07:54:23.825627Z"
    }
   },
   "outputs": [
    {
     "data": {
      "text/html": [
       "<div>\n",
       "<style scoped>\n",
       "    .dataframe tbody tr th:only-of-type {\n",
       "        vertical-align: middle;\n",
       "    }\n",
       "\n",
       "    .dataframe tbody tr th {\n",
       "        vertical-align: top;\n",
       "    }\n",
       "\n",
       "    .dataframe thead th {\n",
       "        text-align: right;\n",
       "    }\n",
       "</style>\n",
       "<table border=\"1\" class=\"dataframe\">\n",
       "  <thead>\n",
       "    <tr style=\"text-align: right;\">\n",
       "      <th></th>\n",
       "      <th>id</th>\n",
       "      <th>age</th>\n",
       "      <th>gender</th>\n",
       "      <th>height</th>\n",
       "      <th>weight</th>\n",
       "      <th>ap_hi</th>\n",
       "      <th>ap_lo</th>\n",
       "      <th>cholesterol</th>\n",
       "      <th>gluc</th>\n",
       "      <th>smoke</th>\n",
       "      <th>alco</th>\n",
       "      <th>active</th>\n",
       "      <th>cardio</th>\n",
       "    </tr>\n",
       "  </thead>\n",
       "  <tbody>\n",
       "    <tr>\n",
       "      <th>0</th>\n",
       "      <td>0</td>\n",
       "      <td>18393</td>\n",
       "      <td>2</td>\n",
       "      <td>168</td>\n",
       "      <td>62.0</td>\n",
       "      <td>110</td>\n",
       "      <td>80</td>\n",
       "      <td>1</td>\n",
       "      <td>1</td>\n",
       "      <td>0</td>\n",
       "      <td>0</td>\n",
       "      <td>1</td>\n",
       "      <td>0</td>\n",
       "    </tr>\n",
       "    <tr>\n",
       "      <th>1</th>\n",
       "      <td>1</td>\n",
       "      <td>20228</td>\n",
       "      <td>1</td>\n",
       "      <td>156</td>\n",
       "      <td>85.0</td>\n",
       "      <td>140</td>\n",
       "      <td>90</td>\n",
       "      <td>3</td>\n",
       "      <td>1</td>\n",
       "      <td>0</td>\n",
       "      <td>0</td>\n",
       "      <td>1</td>\n",
       "      <td>1</td>\n",
       "    </tr>\n",
       "    <tr>\n",
       "      <th>2</th>\n",
       "      <td>2</td>\n",
       "      <td>18857</td>\n",
       "      <td>1</td>\n",
       "      <td>165</td>\n",
       "      <td>64.0</td>\n",
       "      <td>130</td>\n",
       "      <td>70</td>\n",
       "      <td>3</td>\n",
       "      <td>1</td>\n",
       "      <td>0</td>\n",
       "      <td>0</td>\n",
       "      <td>0</td>\n",
       "      <td>1</td>\n",
       "    </tr>\n",
       "    <tr>\n",
       "      <th>3</th>\n",
       "      <td>3</td>\n",
       "      <td>17623</td>\n",
       "      <td>2</td>\n",
       "      <td>169</td>\n",
       "      <td>82.0</td>\n",
       "      <td>150</td>\n",
       "      <td>100</td>\n",
       "      <td>1</td>\n",
       "      <td>1</td>\n",
       "      <td>0</td>\n",
       "      <td>0</td>\n",
       "      <td>1</td>\n",
       "      <td>1</td>\n",
       "    </tr>\n",
       "    <tr>\n",
       "      <th>4</th>\n",
       "      <td>4</td>\n",
       "      <td>17474</td>\n",
       "      <td>1</td>\n",
       "      <td>156</td>\n",
       "      <td>56.0</td>\n",
       "      <td>100</td>\n",
       "      <td>60</td>\n",
       "      <td>1</td>\n",
       "      <td>1</td>\n",
       "      <td>0</td>\n",
       "      <td>0</td>\n",
       "      <td>0</td>\n",
       "      <td>0</td>\n",
       "    </tr>\n",
       "    <tr>\n",
       "      <th>...</th>\n",
       "      <td>...</td>\n",
       "      <td>...</td>\n",
       "      <td>...</td>\n",
       "      <td>...</td>\n",
       "      <td>...</td>\n",
       "      <td>...</td>\n",
       "      <td>...</td>\n",
       "      <td>...</td>\n",
       "      <td>...</td>\n",
       "      <td>...</td>\n",
       "      <td>...</td>\n",
       "      <td>...</td>\n",
       "      <td>...</td>\n",
       "    </tr>\n",
       "    <tr>\n",
       "      <th>995</th>\n",
       "      <td>1381</td>\n",
       "      <td>19640</td>\n",
       "      <td>2</td>\n",
       "      <td>167</td>\n",
       "      <td>64.0</td>\n",
       "      <td>110</td>\n",
       "      <td>70</td>\n",
       "      <td>1</td>\n",
       "      <td>1</td>\n",
       "      <td>0</td>\n",
       "      <td>0</td>\n",
       "      <td>0</td>\n",
       "      <td>0</td>\n",
       "    </tr>\n",
       "    <tr>\n",
       "      <th>996</th>\n",
       "      <td>1383</td>\n",
       "      <td>18951</td>\n",
       "      <td>1</td>\n",
       "      <td>168</td>\n",
       "      <td>78.0</td>\n",
       "      <td>120</td>\n",
       "      <td>80</td>\n",
       "      <td>1</td>\n",
       "      <td>1</td>\n",
       "      <td>0</td>\n",
       "      <td>0</td>\n",
       "      <td>1</td>\n",
       "      <td>1</td>\n",
       "    </tr>\n",
       "    <tr>\n",
       "      <th>997</th>\n",
       "      <td>1385</td>\n",
       "      <td>18751</td>\n",
       "      <td>1</td>\n",
       "      <td>149</td>\n",
       "      <td>56.0</td>\n",
       "      <td>140</td>\n",
       "      <td>80</td>\n",
       "      <td>1</td>\n",
       "      <td>1</td>\n",
       "      <td>0</td>\n",
       "      <td>0</td>\n",
       "      <td>1</td>\n",
       "      <td>1</td>\n",
       "    </tr>\n",
       "    <tr>\n",
       "      <th>998</th>\n",
       "      <td>1386</td>\n",
       "      <td>17371</td>\n",
       "      <td>1</td>\n",
       "      <td>156</td>\n",
       "      <td>74.0</td>\n",
       "      <td>150</td>\n",
       "      <td>90</td>\n",
       "      <td>1</td>\n",
       "      <td>1</td>\n",
       "      <td>0</td>\n",
       "      <td>0</td>\n",
       "      <td>0</td>\n",
       "      <td>1</td>\n",
       "    </tr>\n",
       "    <tr>\n",
       "      <th>999</th>\n",
       "      <td>1387</td>\n",
       "      <td>20254</td>\n",
       "      <td>1</td>\n",
       "      <td>150</td>\n",
       "      <td>68.0</td>\n",
       "      <td>120</td>\n",
       "      <td>80</td>\n",
       "      <td>2</td>\n",
       "      <td>2</td>\n",
       "      <td>0</td>\n",
       "      <td>0</td>\n",
       "      <td>0</td>\n",
       "      <td>1</td>\n",
       "    </tr>\n",
       "  </tbody>\n",
       "</table>\n",
       "<p>1000 rows × 13 columns</p>\n",
       "</div>"
      ],
      "text/plain": [
       "       id    age gender  height  weight  ap_hi  ap_lo cholesterol gluc smoke  \\\n",
       "0       0  18393      2     168    62.0    110     80           1    1     0   \n",
       "1       1  20228      1     156    85.0    140     90           3    1     0   \n",
       "2       2  18857      1     165    64.0    130     70           3    1     0   \n",
       "3       3  17623      2     169    82.0    150    100           1    1     0   \n",
       "4       4  17474      1     156    56.0    100     60           1    1     0   \n",
       "..    ...    ...    ...     ...     ...    ...    ...         ...  ...   ...   \n",
       "995  1381  19640      2     167    64.0    110     70           1    1     0   \n",
       "996  1383  18951      1     168    78.0    120     80           1    1     0   \n",
       "997  1385  18751      1     149    56.0    140     80           1    1     0   \n",
       "998  1386  17371      1     156    74.0    150     90           1    1     0   \n",
       "999  1387  20254      1     150    68.0    120     80           2    2     0   \n",
       "\n",
       "    alco active cardio  \n",
       "0      0      1      0  \n",
       "1      0      1      1  \n",
       "2      0      0      1  \n",
       "3      0      1      1  \n",
       "4      0      0      0  \n",
       "..   ...    ...    ...  \n",
       "995    0      0      0  \n",
       "996    0      1      1  \n",
       "997    0      1      1  \n",
       "998    0      0      1  \n",
       "999    0      0      1  \n",
       "\n",
       "[1000 rows x 13 columns]"
      ]
     },
     "execution_count": 5,
     "metadata": {},
     "output_type": "execute_result"
    }
   ],
   "source": [
    "df = pd.read_pickle(input_pickle_fp).head(1000)\n",
    "df"
   ]
  },
  {
   "cell_type": "markdown",
   "id": "275cd86f-ad93-4bd3-8b5b-271505813198",
   "metadata": {},
   "source": [
    "## 1. ML pipeline execution"
   ]
  },
  {
   "cell_type": "code",
   "execution_count": 10,
   "id": "5842c3ef-ee21-4fd8-b85b-08999d151737",
   "metadata": {
    "execution": {
     "iopub.execute_input": "2025-04-14T07:57:27.639770Z",
     "iopub.status.busy": "2025-04-14T07:57:27.639318Z",
     "iopub.status.idle": "2025-04-14T07:57:27.906753Z",
     "shell.execute_reply": "2025-04-14T07:57:27.905652Z",
     "shell.execute_reply.started": "2025-04-14T07:57:27.639734Z"
    }
   },
   "outputs": [
    {
     "name": "stdout",
     "output_type": "stream",
     "text": [
      "input data shape: (1000, 12)\n",
      "input outcome shape: (1000, 1)\n"
     ]
    }
   ],
   "source": [
    "X, y, idx = _get_X_y_idx(df=df, id_col=id_col, y_label=y_label, trainer=trainer)"
   ]
  },
  {
   "cell_type": "code",
   "execution_count": 11,
   "id": "57410856-e664-4d1f-afa8-e1561b21b234",
   "metadata": {
    "execution": {
     "iopub.execute_input": "2025-04-14T07:57:29.227451Z",
     "iopub.status.busy": "2025-04-14T07:57:29.226971Z",
     "iopub.status.idle": "2025-04-14T07:57:29.308335Z",
     "shell.execute_reply": "2025-04-14T07:57:29.307349Z",
     "shell.execute_reply.started": "2025-04-14T07:57:29.227411Z"
    }
   },
   "outputs": [],
   "source": [
    "X_train, X_test, y_train, y_test, _, idx_test = _set_train_test(trainer, X, y, idx)"
   ]
  },
  {
   "cell_type": "code",
   "execution_count": 12,
   "id": "67b45d5e-be39-44a0-845f-d96eae7fd9ea",
   "metadata": {
    "execution": {
     "iopub.execute_input": "2025-04-14T07:57:30.090967Z",
     "iopub.status.busy": "2025-04-14T07:57:30.089908Z",
     "iopub.status.idle": "2025-04-14T07:57:44.365089Z",
     "shell.execute_reply": "2025-04-14T07:57:44.363619Z",
     "shell.execute_reply.started": "2025-04-14T07:57:30.090912Z"
    }
   },
   "outputs": [
    {
     "name": "stderr",
     "output_type": "stream",
     "text": [
      "[I 2025-04-14 00:57:30,255] A new study created in memory with name: feature_selection\n"
     ]
    },
    {
     "name": "stdout",
     "output_type": "stream",
     "text": [
      "measure_of_accuracy = f1_score(y_true, y_pred, average='macro')\n",
      "\n",
      "pre-SHAP init:\n",
      "- X_train.shape:(800, 12)\n",
      "- y_train.shape(800, 1)\n"
     ]
    },
    {
     "name": "stderr",
     "output_type": "stream",
     "text": [
      "[I 2025-04-14 00:57:30,440] Trial 0 finished with value: 0.6375230743413325 and parameters: {'objective': 'binary:logistic', 'eval_metric': 'auc', 'gamma': 3, 'learning_rate': 0.13103143857073918, 'max_bin': 18, 'max_depth': 7, 'min_child_weight': 5, 'n_estimators': 101, 'n_jobs': -1, 'random_state': 19920722, 'reg_alpha': 1, 'reg_lambda': 1, 'scale_pos_weight': 17.485604649374103}. Best is trial 0 with value: 0.6375230743413325.\n",
      "[I 2025-04-14 00:57:30,897] Trial 1 finished with value: 0.6484110885733605 and parameters: {'objective': 'binary:logistic', 'eval_metric': 'auc', 'gamma': 3, 'learning_rate': 0.21295346204423066, 'max_bin': 17, 'max_depth': 15, 'min_child_weight': 1, 'n_estimators': 160, 'n_jobs': -1, 'random_state': 19920722, 'reg_alpha': 5, 'reg_lambda': 5, 'scale_pos_weight': 12.890009117909408}. Best is trial 1 with value: 0.6484110885733605.\n",
      "[I 2025-04-14 00:57:31,138] Trial 2 finished with value: 0.5538765965101637 and parameters: {'objective': 'binary:logistic', 'eval_metric': 'auc', 'gamma': 6, 'learning_rate': 0.2097761202517568, 'max_bin': 5, 'max_depth': 3, 'min_child_weight': 7, 'n_estimators': 148, 'n_jobs': -1, 'random_state': 19920722, 'reg_alpha': 0, 'reg_lambda': 2, 'scale_pos_weight': 5.118779399302703}. Best is trial 1 with value: 0.6484110885733605.\n"
     ]
    },
    {
     "name": "stdout",
     "output_type": "stream",
     "text": [
      "pre-SHAP done - 1.4191319942474365 seconds\n",
      "\n",
      "SHAP init:\n",
      "- X_train.shape:(800, 12)\n",
      "- y_train.shape(800, 1)\n"
     ]
    },
    {
     "name": "stderr",
     "output_type": "stream",
     "text": [
      "[I 2025-04-14 00:57:42,770] A new study created in memory with name: LohrasbOptimizer_xgb_classifier\n"
     ]
    },
    {
     "name": "stdout",
     "output_type": "stream",
     "text": [
      "SHAP done - 11.076321840286255 seconds\n"
     ]
    },
    {
     "name": "stderr",
     "output_type": "stream",
     "text": [
      "[I 2025-04-14 00:57:43,174] Trial 0 finished with value: 0.5538765965101637 and parameters: {'objective': 'binary:logistic', 'eval_metric': 'auc', 'gamma': 3, 'learning_rate': 0.13103143857073918, 'max_bin': 18, 'max_depth': 7, 'min_child_weight': 5, 'n_estimators': 101, 'n_jobs': -1, 'random_state': 19920722, 'reg_alpha': 1, 'reg_lambda': 1, 'scale_pos_weight': 17.485604649374103}. Best is trial 0 with value: 0.5538765965101637.\n",
      "[I 2025-04-14 00:57:43,774] Trial 1 finished with value: 0.4280193236714976 and parameters: {'objective': 'binary:logistic', 'eval_metric': 'auc', 'gamma': 3, 'learning_rate': 0.21295346204423066, 'max_bin': 17, 'max_depth': 15, 'min_child_weight': 1, 'n_estimators': 160, 'n_jobs': -1, 'random_state': 19920722, 'reg_alpha': 5, 'reg_lambda': 5, 'scale_pos_weight': 12.890009117909408}. Best is trial 0 with value: 0.5538765965101637.\n",
      "[I 2025-04-14 00:57:44,111] Trial 2 finished with value: 0.45080091533180777 and parameters: {'objective': 'binary:logistic', 'eval_metric': 'auc', 'gamma': 6, 'learning_rate': 0.2097761202517568, 'max_bin': 5, 'max_depth': 3, 'min_child_weight': 7, 'n_estimators': 148, 'n_jobs': -1, 'random_state': 19920722, 'reg_alpha': 0, 'reg_lambda': 2, 'scale_pos_weight': 5.118779399302703}. Best is trial 0 with value: 0.5538765965101637.\n"
     ]
    },
    {
     "name": "stdout",
     "output_type": "stream",
     "text": [
      "######################################\n",
      "- final_pipeline__xgb_classifier__cardio.joblib saved.\n",
      "######################################\n"
     ]
    }
   ],
   "source": [
    "fitted_pipeline = _fit_pipeline(\n",
    "    X_train=X_train,\n",
    "    y_train=y_train,\n",
    "    trainer=trainer,\n",
    "    fname=f\"{trainer[0]}_{trainer[1]}__{y_label}\",\n",
    "    n_features=n_features,\n",
    "    n_trials=n_trials,\n",
    ")"
   ]
  },
  {
   "cell_type": "code",
   "execution_count": 14,
   "id": "8919de13-5d25-4c3e-8291-66550dbb73b9",
   "metadata": {
    "execution": {
     "iopub.execute_input": "2025-04-14T07:58:44.572178Z",
     "iopub.status.busy": "2025-04-14T07:58:44.571324Z",
     "iopub.status.idle": "2025-04-14T07:58:44.856823Z",
     "shell.execute_reply": "2025-04-14T07:58:44.855730Z",
     "shell.execute_reply.started": "2025-04-14T07:58:44.572117Z"
    }
   },
   "outputs": [
    {
     "name": "stdout",
     "output_type": "stream",
     "text": [
      "F1 score : 0.43565206723101463\n",
      "Classification report : \n",
      "              precision    recall  f1-score   support\n",
      "\n",
      "           0       0.73      0.11      0.19        99\n",
      "           1       0.52      0.96      0.68       101\n",
      "\n",
      "    accuracy                           0.54       200\n",
      "   macro avg       0.63      0.54      0.44       200\n",
      "weighted avg       0.63      0.54      0.44       200\n",
      "\n",
      "Confusion matrix : \n",
      "[[11 88]\n",
      " [ 4 97]]\n"
     ]
    }
   ],
   "source": [
    "y_pred, acc = _eval_pred(pip=fitted_pipeline, trainer=trainer, X=X_test, y=y_test)"
   ]
  },
  {
   "cell_type": "markdown",
   "id": "b7b70505-5809-497d-999d-e46fe58ff1d7",
   "metadata": {},
   "source": [
    "## 2. SHAP explanation of best estimator"
   ]
  },
  {
   "cell_type": "code",
   "execution_count": 23,
   "id": "d4de4207-a691-4fc7-98d2-2d1e3dcec3ef",
   "metadata": {
    "execution": {
     "iopub.execute_input": "2025-04-14T07:59:25.206541Z",
     "iopub.status.busy": "2025-04-14T07:59:25.206134Z",
     "iopub.status.idle": "2025-04-14T07:59:26.230454Z",
     "shell.execute_reply": "2025-04-14T07:59:26.229613Z",
     "shell.execute_reply.started": "2025-04-14T07:59:25.206510Z"
    }
   },
   "outputs": [
    {
     "name": "stderr",
     "output_type": "stream",
     "text": [
      "No data for colormapping provided via 'c'. Parameters 'vmin', 'vmax' will be ignored\n"
     ]
    },
    {
     "data": {
      "image/png": "[encoded data removed]",
      "text/plain": [
       "<Figure size 800x270 with 2 Axes>"
      ]
     },
     "metadata": {},
     "output_type": "display_data"
    },
    {
     "data": {
      "text/plain": [
       "<Figure size 640x480 with 0 Axes>"
      ]
     },
     "metadata": {},
     "output_type": "display_data"
    }
   ],
   "source": [
    "plt.cla()\n",
    "plt.clf()\n",
    "fig = plt.gcf()\n",
    "\n",
    "scaled_X_test = fitted_pipeline[:-1].transform(X_test)\n",
    "estimator = fitted_pipeline[-1].best_estimator\n",
    "explainer = fasttreeshap.TreeExplainer(estimator, algorithm=\"v2\", n_jobs=-1)\n",
    "shap_values = explainer.shap_values(scaled_X_test)\n",
    "\n",
    "shap.summary_plot(shap_values, scaled_X_test, max_display=n_features, show=True)\n",
    "plt.close()\n",
    "plt.cla()\n",
    "plt.clf()"
   ]
  },
  {
   "cell_type": "code",
   "execution_count": null,
   "id": "3b235ec9-6db4-4842-96bc-5ee447468279",
   "metadata": {},
   "outputs": [],
   "source": []
  }
 ],
 "metadata": {
  "kernelspec": {
   "display_name": "Python 3 (ipykernel)",
   "language": "python",
   "name": "python3"
  },
  "language_info": {
   "codemirror_mode": {
    "name": "ipython",
    "version": 3
   },
   "file_extension": ".py",
   "mimetype": "text/x-python",
   "name": "python",
   "nbconvert_exporter": "python",
   "pygments_lexer": "ipython3",
   "version": "3.10.12"
  }
 },
 "nbformat": 4,
 "nbformat_minor": 5
}
